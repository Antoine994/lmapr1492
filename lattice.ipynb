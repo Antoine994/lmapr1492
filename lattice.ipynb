{
 "cells": [
  {
   "cell_type": "code",
   "execution_count": 1,
   "id": "e8b552f6",
   "metadata": {},
   "outputs": [],
   "source": [
    "from pymatgen.ext.matproj import MPRester\n",
    "from pymatgen.io.cif import CifWriter\n",
    "from pymatgen.symmetry.analyzer import PointGroupAnalyzer, SpacegroupAnalyzer"
   ]
  },
  {
   "cell_type": "code",
   "execution_count": 11,
   "id": "72c764b8",
   "metadata": {},
   "outputs": [
    {
     "name": "stdout",
     "output_type": "stream",
     "text": [
      "Getting Rb2Se cristal structure with pymatgen...\n",
      "\tDirect lattice vectors :\n",
      "8.122218 0.000000 0.000000\n",
      "0.000000 8.122218 0.000000\n",
      "0.000000 0.000000 8.122218\n",
      "\n",
      "\tReciprocal lattice vectors :\n",
      "0.773580 -0.000000 0.000000\n",
      "0.000000 0.773580 0.000000\n",
      "-0.000000 -0.000000 0.773580\n",
      "\n",
      "\tCristal system and cell type :\n",
      "cubic F\n",
      "\n",
      "\tPointgroup :\n",
      "m-3m\n"
     ]
    }
   ],
   "source": [
    "print(\"Getting Rb2Se cristal structure with pymatgen...\")\n",
    "\n",
    "with MPRester(\"stzwdugeNELjqCAkcHa\") as mpr:\n",
    "    structure = mpr.get_structure_by_material_id(material_id=\"mp-11327\", final=True, conventional_unit_cell=True)\n",
    "lattice = structure.lattice\n",
    "r_lat = lattice.reciprocal_lattice\n",
    "s_analyser = SpacegroupAnalyzer(structure)\n",
    "\n",
    "print(\"\\tDirect lattice vectors :\")\n",
    "print(lattice)\n",
    "print(\"\\n\\tReciprocal lattice vectors :\")\n",
    "print(r_lat)\n",
    "print(\"\\n\\tCristal system and cell type :\")\n",
    "print(s_analyser.get_crystal_system(), s_analyser.get_space_group_symbol()[0])\n",
    "print(\"\\n\\tPointgroup :\")\n",
    "print(s_analyser.get_point_group_symbol())"
   ]
  },
  {
   "cell_type": "code",
   "execution_count": 12,
   "id": "cb70d53d",
   "metadata": {},
   "outputs": [
    {
     "name": "stdout",
     "output_type": "stream",
     "text": [
      "\n",
      "Writing structure to cif file\n",
      "Done\n"
     ]
    }
   ],
   "source": [
    "print(\"\\nWriting structure to cif file\")\n",
    "cif_wr = CifWriter(structure)\n",
    "cif_wr.write_file(filename=\"Rb2Se.cif\")\n",
    "print(\"Done\")"
   ]
  },
  {
   "cell_type": "code",
   "execution_count": null,
   "id": "60f3a0a6",
   "metadata": {},
   "outputs": [],
   "source": []
  }
 ],
 "metadata": {
  "kernelspec": {
   "display_name": "Python 3",
   "language": "python",
   "name": "python3"
  },
  "language_info": {
   "codemirror_mode": {
    "name": "ipython",
    "version": 3
   },
   "file_extension": ".py",
   "mimetype": "text/x-python",
   "name": "python",
   "nbconvert_exporter": "python",
   "pygments_lexer": "ipython3",
   "version": "3.6.8"
  }
 },
 "nbformat": 4,
 "nbformat_minor": 5
}
