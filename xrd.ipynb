{
 "cells": [
  {
   "cell_type": "code",
   "execution_count": 1,
   "id": "23c38f6a",
   "metadata": {},
   "outputs": [],
   "source": [
    "from pymatgen.ext.matproj import MPRester\n",
    "from pymatgen.analysis.diffraction import xrd"
   ]
  },
  {
   "cell_type": "code",
   "execution_count": 2,
   "id": "a8332dff",
   "metadata": {},
   "outputs": [
    {
     "name": "stdout",
     "output_type": "stream",
     "text": [
      "Recherche de la structure (avec cellule conventionnelle) du cristal de Rb2Se avec pymatgen\n"
     ]
    }
   ],
   "source": [
    "print(\"Recherche de la structure (avec cellule conventionnelle) du cristal de Rb2Se avec pymatgen\")\n",
    "\n",
    "with MPRester(\"stzwdugeNELjqCAkcHa\") as mpr:\n",
    "    structure = mpr.get_structure_by_material_id(material_id=\"mp-11327\", final=True, conventional_unit_cell=True)"
   ]
  },
  {
   "cell_type": "code",
   "execution_count": 4,
   "id": "a01b4829",
   "metadata": {},
   "outputs": [
    {
     "name": "stdout",
     "output_type": "stream",
     "text": [
      "Ecriture du fichier cif...\n",
      "Terminée\n"
     ]
    }
   ],
   "source": [
    "print(\"Ecriture du fichier cif...\")\n",
    "structure.to(filename=\"Rb2Se.cif\")\n",
    "print(\"Terminée\")"
   ]
  },
  {
   "cell_type": "code",
   "execution_count": 6,
   "id": "2783f812",
   "metadata": {},
   "outputs": [
    {
     "name": "stdout",
     "output_type": "stream",
     "text": [
      "Calcul des premiers pics du diffractogramme...\n"
     ]
    }
   ],
   "source": [
    "# Pics du diffractogramme\n",
    "\n",
    "# Paramètres\n",
    "wavelength = 1.54060  # A\n",
    "# Simulation\n",
    "print(\"Calcul des premiers pics du diffractogramme...\")\n",
    "calculator = xrd.XRDCalculator(wavelength=wavelength)\n",
    "pattern = calculator.get_pattern(structure)\n",
    "angles = pattern.x\n",
    "values = pattern.y\n",
    "planes = pattern.hkls"
   ]
  },
  {
   "cell_type": "code",
   "execution_count": 9,
   "id": "015d3d8c",
   "metadata": {},
   "outputs": [
    {
     "name": "stdout",
     "output_type": "stream",
     "text": [
      "Voici les premiers pics avec leur angle d'incidence, le plan de miller correspondant et leur intensité relative (par rapport à l'intensité max)\n",
      "Pic 1 : angle de 18.909116139619147 deg, intensité de 23.166190316245572 %\n",
      "\tplan de miller correspondant : (1, 1, 1)\n",
      "Pic 2 : angle de 21.867899336418084 deg, intensité de 16.639923368525956 %\n",
      "\tplan de miller correspondant : (2, 0, 0)\n",
      "Pic 3 : angle de 31.11961972672679 deg, intensité de 100.0 %\n",
      "\tplan de miller correspondant : (2, 2, 0)\n"
     ]
    }
   ],
   "source": [
    "print(\"Voici les premiers pics avec leur angle d'incidence, le plan de miller correspondant et leur intensité relative (par rapport à l'intensité max)\")\n",
    "for i in range(3):\n",
    "    print(\"Pic {} : angle de {} deg, intensité de {} %\".format(i+1, angles[i], values[i]))\n",
    "    print(\"\\tplan de miller correspondant : {}\".format(planes[i][0]['hkl']))"
   ]
  },
  {
   "cell_type": "code",
   "execution_count": null,
   "id": "f5a1a6fa",
   "metadata": {},
   "outputs": [],
   "source": []
  }
 ],
 "metadata": {
  "kernelspec": {
   "display_name": "Python 3",
   "language": "python",
   "name": "python3"
  },
  "language_info": {
   "codemirror_mode": {
    "name": "ipython",
    "version": 3
   },
   "file_extension": ".py",
   "mimetype": "text/x-python",
   "name": "python",
   "nbconvert_exporter": "python",
   "pygments_lexer": "ipython3",
   "version": "3.6.8"
  }
 },
 "nbformat": 4,
 "nbformat_minor": 5
}
