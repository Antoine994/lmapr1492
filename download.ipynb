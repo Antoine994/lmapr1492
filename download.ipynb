{
 "cells": [
  {
   "cell_type": "code",
   "execution_count": 1,
   "id": "aeea77ee",
   "metadata": {},
   "outputs": [],
   "source": [
    "from pymatgen.ext.matproj import MPRester\n",
    "from pymatgen.io.cif import CifWriter"
   ]
  },
  {
   "cell_type": "code",
   "execution_count": 2,
   "id": "114557ba",
   "metadata": {},
   "outputs": [
    {
     "name": "stdout",
     "output_type": "stream",
     "text": [
      "Recherche de la structure (avec cellule conventionnelle) du cristal de Rb2Se avec pymatgen\n",
      "Ecriture du fichier CIF 'Rb2Se.cif' à partir de cette structure...\n",
      "Terminée\n"
     ]
    }
   ],
   "source": [
    "print(\"Recherche de la structure (avec cellule conventionnelle) du cristal de Rb2Se avec pymatgen\")\n",
    "\n",
    "with MPRester(\"stzwdugeNELjqCAkcHa\") as mpr:\n",
    "    structure = mpr.get_structure_by_material_id(material_id=\"mp-11327\", final=True, conventional_unit_cell=True)\n",
    "\n",
    "print(\"Ecriture du fichier CIF 'Rb2Se.cif' à partir de cette structure...\")\n",
    "structure.to(filename=\"Rb2Se.cif\")\n",
    "print(\"Terminée\")"
   ]
  },
  {
   "cell_type": "code",
   "execution_count": null,
   "id": "64c8f3d0",
   "metadata": {},
   "outputs": [],
   "source": []
  }
 ],
 "metadata": {
  "kernelspec": {
   "display_name": "Python 3",
   "language": "python",
   "name": "python3"
  },
  "language_info": {
   "codemirror_mode": {
    "name": "ipython",
    "version": 3
   },
   "file_extension": ".py",
   "mimetype": "text/x-python",
   "name": "python",
   "nbconvert_exporter": "python",
   "pygments_lexer": "ipython3",
   "version": "3.6.8"
  }
 },
 "nbformat": 4,
 "nbformat_minor": 5
}
