{
 "cells": [
  {
   "cell_type": "code",
   "execution_count": 2,
   "id": "7bc1ae74",
   "metadata": {},
   "outputs": [],
   "source": [
    "from pymatgen.ext.matproj import MPRester\n",
    "from jupyter_jsmol import pymatgen, JsmolView"
   ]
  },
  {
   "cell_type": "code",
   "execution_count": 3,
   "id": "81505a05",
   "metadata": {},
   "outputs": [
    {
     "name": "stdout",
     "output_type": "stream",
     "text": [
      "Recherche de la structure (avec cellule conventionnelle) du cristal de Rb2Se avec pymatgen\n"
     ]
    }
   ],
   "source": [
    "print(\"Recherche de la structure (avec cellule conventionnelle) du cristal de Rb2Se avec pymatgen\")\n",
    "\n",
    "with MPRester(\"stzwdugeNELjqCAkcHa\") as mpr:\n",
    "    structure = mpr.get_structure_by_material_id(material_id=\"mp-11327\", final=True, conventional_unit_cell=True)"
   ]
  },
  {
   "cell_type": "code",
   "execution_count": 4,
   "id": "2d0e3ea1",
   "metadata": {},
   "outputs": [
    {
     "name": "stdout",
     "output_type": "stream",
     "text": [
      "Ecriture du fichier CIF 'Rb2Se.cif' à partir de cette structure...\n",
      "Terminée\n"
     ]
    }
   ],
   "source": [
    "print(\"Ecriture du fichier CIF 'Rb2Se.cif' à partir de cette structure...\")\n",
    "structure.to(filename=\"Rb2Se.cif\")\n",
    "print(\"Terminée\")"
   ]
  },
  {
   "cell_type": "code",
   "execution_count": 18,
   "id": "dddc64aa",
   "metadata": {},
   "outputs": [],
   "source": [
    "# Créer la vue d'une maille (conventionnelle)\n",
    "JsmolView.default_info['color']='white'\n",
    "view1 = pymatgen.quick_view(structure)"
   ]
  },
  {
   "cell_type": "code",
   "execution_count": 19,
   "id": "7316f97d",
   "metadata": {},
   "outputs": [
    {
     "data": {
      "application/vnd.jupyter.widget-view+json": {
       "model_id": "14967c114b2c476199ff4256928657c3",
       "version_major": 2,
       "version_minor": 0
      },
      "text/plain": [
       "JsmolView(layout=Layout(align_self='stretch', height='400px'))"
      ]
     },
     "metadata": {},
     "output_type": "display_data"
    },
    {
     "name": "stdout",
     "output_type": "stream",
     "text": [
      "Dans la partie suivante, nous observersons l'effet d'une rotation et de 2 symmétries planaires sur un atome\n"
     ]
    }
   ],
   "source": [
    "# Affichage\n",
    "display(view1)\n",
    "print(\"Dans la partie suivante, nous observersons l'effet d'une rotation et de 2 symmétries planaires sur un atome\")"
   ]
  },
  {
   "cell_type": "markdown",
   "id": "58a1536f",
   "metadata": {},
   "source": [
    "<b>\n",
    "- La première symétrie a pour équation (x, y, z) -> (z, x, y)\n",
    "\n",
    "Les coordonnées des points seront exprimées en fraction des vecteurs de base (ou du paramètre de maille)\n",
    "\n",
    "L'atome à la position (1/2, 0, 1/2) est envoyé à la position (1/2, 1/2, 1/2) </b>"
   ]
  },
  {
   "cell_type": "code",
   "execution_count": 11,
   "id": "471eca9c",
   "metadata": {},
   "outputs": [
    {
     "name": "stdout",
     "output_type": "stream",
     "text": [
      "La rotation (d'axe (1, 1, 1)) est visible dans la figure précédente\n",
      "C'est une rotation de 3e ordre qui envoie l'atome numéro 19 à la position 17\n"
     ]
    }
   ],
   "source": [
    "# Représentation des 3 éléments de symmétrie séparément\n",
    "view1.script(\"draw SYMOP {atomno=19} {atomno=17}; Label on\")\n",
    "print(\"La rotation (d'axe (1, 1, 1)) est visible dans la figure précédente\")\n",
    "print(\"C'est une rotation de 3e ordre qui envoie l'atome numéro 19 à la position 17\")"
   ]
  },
  {
   "cell_type": "markdown",
   "id": "378c4cf2",
   "metadata": {},
   "source": [
    "<b>\n",
    "- La seconde symétrie a pour équation (x, y, z) -> (1-x, y, z)\n",
    "\n",
    "L'atome à la position (1/4, 3/4, 1/4) est envoyé à la position (3/4, 3/4, 1/4) </b>"
   ]
  },
  {
   "cell_type": "code",
   "execution_count": 12,
   "id": "954880db",
   "metadata": {},
   "outputs": [
    {
     "name": "stdout",
     "output_type": "stream",
     "text": [
      "Un premier plan de symmétrie (plan 'bc') envoie l'atome 13 à la position 9\n"
     ]
    }
   ],
   "source": [
    "view1.script(\"draw SYMOP {atomno=13} {atomno=9} 2\")\n",
    "print(\"Un premier plan de symmétrie (plan 'bc') envoie l'atome 13 à la position 9\")"
   ]
  },
  {
   "cell_type": "markdown",
   "id": "b2b8b70b",
   "metadata": {},
   "source": [
    "<b>\n",
    "- La troisième symétrie a pour équation (x, y, z) -> (x, y, 1-z)\n",
    "\n",
    "L'atome à la position (1/4, 1/4, 1/4) est envoyé à la position (1/4, 1/4, 3/4) </b>"
   ]
  },
  {
   "cell_type": "code",
   "execution_count": 14,
   "id": "cd1b35f0",
   "metadata": {},
   "outputs": [
    {
     "name": "stdout",
     "output_type": "stream",
     "text": [
      "Un second plan de symmétrie (plan 'ab') envoie l'atome 1 à la position 11\n"
     ]
    }
   ],
   "source": [
    "view1.script(\"draw SYMOP {atomno=1} {atomno=11}\")\n",
    "print(\"Un second plan de symmétrie (plan 'ab') envoie l'atome 1 à la position 11\")"
   ]
  },
  {
   "cell_type": "code",
   "execution_count": 16,
   "id": "4a419ecf",
   "metadata": {},
   "outputs": [
    {
     "name": "stdout",
     "output_type": "stream",
     "text": [
      "Les 3 éléments de symmétrie sont représentés ensembles dans la figure précédente\n"
     ]
    }
   ],
   "source": [
    "# Affichage des 3 éléments de symmétrie\n",
    "view1.script(\"draw SYMOP {molecule=2} {molecule=2}\")\n",
    "view1.script('draw POINTGROUP C3 4; Label off')\n",
    "view1.script('draw POINTGROUP Cs 1')\n",
    "view1.script('draw POINTGROUP Cs 2')\n",
    "print(\"Les 3 éléments de symmétrie sont représentés ensembles dans la figure précédente\")"
   ]
  },
  {
   "cell_type": "code",
   "execution_count": 17,
   "id": "0ed4faa1",
   "metadata": {},
   "outputs": [],
   "source": [
    "# Fermer la vue de la maille\n",
    "view1.close()"
   ]
  },
  {
   "cell_type": "code",
   "execution_count": null,
   "id": "9bc5bdc6",
   "metadata": {},
   "outputs": [],
   "source": []
  }
 ],
 "metadata": {
  "kernelspec": {
   "display_name": "Python 3",
   "language": "python",
   "name": "python3"
  },
  "language_info": {
   "codemirror_mode": {
    "name": "ipython",
    "version": 3
   },
   "file_extension": ".py",
   "mimetype": "text/x-python",
   "name": "python",
   "nbconvert_exporter": "python",
   "pygments_lexer": "ipython3",
   "version": "3.6.8"
  }
 },
 "nbformat": 4,
 "nbformat_minor": 5
}
