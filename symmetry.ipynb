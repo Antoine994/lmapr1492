{
 "cells": [
  {
   "cell_type": "code",
   "execution_count": 10,
   "id": "7bc1ae74",
   "metadata": {},
   "outputs": [],
   "source": [
    "from pymatgen.ext.matproj import MPRester\n",
    "\n",
    "from jupyter_jsmol import pymatgen, JsmolView"
   ]
  },
  {
   "cell_type": "code",
   "execution_count": 4,
   "id": "81505a05",
   "metadata": {},
   "outputs": [
    {
     "name": "stdout",
     "output_type": "stream",
     "text": [
      "Getting Rb2Se cristal structure with pymatgen\n"
     ]
    }
   ],
   "source": [
    "print(\"Getting Rb2Se cristal structure with pymatgen\")\n",
    "\n",
    "with MPRester(\"stzwdugeNELjqCAkcHa\") as mpr:\n",
    "    structure = mpr.get_structure_by_material_id(material_id=\"mp-11327\", final=True, conventional_unit_cell=True)"
   ]
  },
  {
   "cell_type": "code",
   "execution_count": 5,
   "id": "2d0e3ea1",
   "metadata": {},
   "outputs": [
    {
     "name": "stdout",
     "output_type": "stream",
     "text": [
      "Writing cif file\n",
      "Done\n"
     ]
    }
   ],
   "source": [
    "print(\"Writing cif file\")\n",
    "structure.to(filename=\"Rb2Se.cif\") #cif_wr.write_file\n",
    "print(\"Done\")"
   ]
  },
  {
   "cell_type": "code",
   "execution_count": 11,
   "id": "dddc64aa",
   "metadata": {},
   "outputs": [],
   "source": [
    "# We use the previous structure and imports\n",
    "JsmolView.default_info['color']='white'\n",
    "view1 = pymatgen.quick_view(structure)"
   ]
  },
  {
   "cell_type": "code",
   "execution_count": 12,
   "id": "7316f97d",
   "metadata": {},
   "outputs": [
    {
     "data": {
      "application/vnd.jupyter.widget-view+json": {
       "model_id": "3a43b3d53608431a9cacc4b5f351707d",
       "version_major": 2,
       "version_minor": 0
      },
      "text/plain": [
       "JsmolView(layout=Layout(align_self='stretch', height='400px'))"
      ]
     },
     "metadata": {},
     "output_type": "display_data"
    },
    {
     "name": "stdout",
     "output_type": "stream",
     "text": [
      "We will study the effect of a rotation, and 2 plane symmetries in the following part\n"
     ]
    }
   ],
   "source": [
    "# Display of the cristal conventional unit cell\n",
    "display(view1)\n",
    "print(\"We will study the effect of a rotation, and 2 plane symmetries in the following part\")"
   ]
  },
  {
   "cell_type": "code",
   "execution_count": 14,
   "id": "471eca9c",
   "metadata": {},
   "outputs": [
    {
     "name": "stdout",
     "output_type": "stream",
     "text": [
      "The rotation is shown on previous figure\n",
      "It's a 3rd order rotation that sends the atom number 19 to position 17\n"
     ]
    }
   ],
   "source": [
    "view1.script(\"draw SYMOP {atomno=19} {atomno=17}; Label on\")\n",
    "print(\"The rotation is shown on previous figure\")\n",
    "print(\"It's a 3rd order rotation that sends the atom number 19 to position 17\")"
   ]
  },
  {
   "cell_type": "code",
   "execution_count": 16,
   "id": "954880db",
   "metadata": {},
   "outputs": [
    {
     "name": "stdout",
     "output_type": "stream",
     "text": [
      "A first symmetry plane ('bc' plane) sends atom number 13 to number 9\n"
     ]
    }
   ],
   "source": [
    "view1.script(\"draw SYMOP {atomno=13} {atomno=9} 2\")\n",
    "print(\"A first symmetry plane ('bc' plane) sends atom number 13 to number 9\")"
   ]
  },
  {
   "cell_type": "code",
   "execution_count": 17,
   "id": "cd1b35f0",
   "metadata": {},
   "outputs": [
    {
     "name": "stdout",
     "output_type": "stream",
     "text": [
      "The second symmery is in the 'ab' plane\n",
      "It sends number 1 to number 11\n"
     ]
    }
   ],
   "source": [
    "view1.script(\"draw SYMOP {atomno=1} {atomno=11}\")\n",
    "print(\"The second symmery is in the 'ab' plane\")\n",
    "print(\"It sends number 1 to number 11\")"
   ]
  },
  {
   "cell_type": "code",
   "execution_count": 18,
   "id": "4a419ecf",
   "metadata": {},
   "outputs": [
    {
     "name": "stdout",
     "output_type": "stream",
     "text": [
      "The 3 symmetry elements are displayed altogether in previous figure\n"
     ]
    }
   ],
   "source": [
    "view1.script(\"draw SYMOP {molecule=2} {molecule=2}\")\n",
    "view1.script('draw POINTGROUP C3 4; Label off')\n",
    "view1.script('draw POINTGROUP Cs 1')\n",
    "view1.script('draw POINTGROUP Cs 2')\n",
    "print(\"The 3 symmetry elements are displayed altogether in previous figure\")"
   ]
  },
  {
   "cell_type": "code",
   "execution_count": 165,
   "id": "0ed4faa1",
   "metadata": {},
   "outputs": [],
   "source": [
    "# Shut down the display\n",
    "view1.close()"
   ]
  },
  {
   "cell_type": "code",
   "execution_count": null,
   "id": "9bc5bdc6",
   "metadata": {},
   "outputs": [],
   "source": []
  }
 ],
 "metadata": {
  "kernelspec": {
   "display_name": "Python 3",
   "language": "python",
   "name": "python3"
  },
  "language_info": {
   "codemirror_mode": {
    "name": "ipython",
    "version": 3
   },
   "file_extension": ".py",
   "mimetype": "text/x-python",
   "name": "python",
   "nbconvert_exporter": "python",
   "pygments_lexer": "ipython3",
   "version": "3.6.8"
  }
 },
 "nbformat": 4,
 "nbformat_minor": 5
}
