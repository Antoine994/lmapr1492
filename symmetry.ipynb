{
 "cells": [
  {
   "cell_type": "code",
   "execution_count": 141,
   "id": "7bc1ae74",
   "metadata": {},
   "outputs": [],
   "source": [
    "from pymatgen.ext.matproj import MPRester\n",
    "\n",
    "from jupyter_jsmol import pymatgen"
   ]
  },
  {
   "cell_type": "code",
   "execution_count": 142,
   "id": "81505a05",
   "metadata": {},
   "outputs": [
    {
     "name": "stdout",
     "output_type": "stream",
     "text": [
      "Getting Rb2Se cristal structure with pymatgen\n"
     ]
    }
   ],
   "source": [
    "print(\"Getting Rb2Se cristal structure with pymatgen\")\n",
    "\n",
    "with MPRester(\"stzwdugeNELjqCAkcHa\") as mpr:\n",
    "    structure = mpr.get_structure_by_material_id(material_id=\"mp-11327\", final=True, conventional_unit_cell=True)"
   ]
  },
  {
   "cell_type": "code",
   "execution_count": 143,
   "id": "2d0e3ea1",
   "metadata": {},
   "outputs": [
    {
     "name": "stdout",
     "output_type": "stream",
     "text": [
      "Writing cif file\n",
      "Done\n"
     ]
    }
   ],
   "source": [
    "print(\"Writing cif file\")\n",
    "structure.to(filename=\"Rb2Se.cif\") #cif_wr.write_file\n",
    "print(\"Done\")"
   ]
  },
  {
   "cell_type": "code",
   "execution_count": 151,
   "id": "dddc64aa",
   "metadata": {},
   "outputs": [],
   "source": [
    "# We use the previous structure and imports\n",
    "JsmolView.default_info['color']='white'\n",
    "view1 = pymatgen.quick_view(structure)"
   ]
  },
  {
   "cell_type": "code",
   "execution_count": 152,
   "id": "7316f97d",
   "metadata": {},
   "outputs": [
    {
     "data": {
      "application/vnd.jupyter.widget-view+json": {
       "model_id": "",
       "version_major": 2,
       "version_minor": 0
      },
      "text/plain": [
       "JsmolView(layout=Layout(align_self='stretch', height='400px'))"
      ]
     },
     "metadata": {},
     "output_type": "display_data"
    },
    {
     "name": "stdout",
     "output_type": "stream",
     "text": [
      "We will study the effect of a roto-inversion, and 2 plane symmetries in the following part\n"
     ]
    }
   ],
   "source": [
    "# Display of the cristal conventional unit cell\n",
    "display(view1)\n",
    "print(\"We will study the effect of a roto-inversion, and 2 plane symmetries in the following part\")"
   ]
  },
  {
   "cell_type": "code",
   "execution_count": 162,
   "id": "471eca9c",
   "metadata": {},
   "outputs": [
    {
     "name": "stdout",
     "output_type": "stream",
     "text": [
      "The roto-inversion is shown on previous figure\n",
      "The inversion sends atom number 20 to position 19\n",
      "and the rotation of 3rd order sends the atom to position 17\n"
     ]
    }
   ],
   "source": [
    "view1.script(\"draw SYMOP {atomno=20} {atomno=17} 2; Label on\")\n",
    "print(\"The roto-inversion is shown on previous figure\")\n",
    "print(\"The inversion sends atom number 20 to position 19\")\n",
    "print(\"and the rotation of 3rd order sends the atom to position 17\")"
   ]
  },
  {
   "cell_type": "code",
   "execution_count": 158,
   "id": "954880db",
   "metadata": {},
   "outputs": [
    {
     "name": "stdout",
     "output_type": "stream",
     "text": [
      "A first symmetry plane ('bc' plane) sends atom number 9 to number 13\n"
     ]
    }
   ],
   "source": [
    "view1.script(\"draw SYMOP {atomno=13} {atomno=9} 2\")\n",
    "print(\"A first symmetry plane ('bc' plane) sends atom number 9 to number 13\")"
   ]
  },
  {
   "cell_type": "code",
   "execution_count": 163,
   "id": "cd1b35f0",
   "metadata": {},
   "outputs": [
    {
     "name": "stdout",
     "output_type": "stream",
     "text": [
      "The second symmery is in the 'ab' plane\n",
      "It sends number 1 to number 11\n"
     ]
    }
   ],
   "source": [
    "view1.script(\"draw SYMOP {atomno=1} {atomno=11}\")\n",
    "print(\"The second symmery is in the 'ab' plane\")\n",
    "print(\"It sends number 1 to number 11\")"
   ]
  },
  {
   "cell_type": "code",
   "execution_count": 164,
   "id": "4a419ecf",
   "metadata": {},
   "outputs": [
    {
     "name": "stdout",
     "output_type": "stream",
     "text": [
      "The 3 symmetry elements are displayed altogether in previous figure\n"
     ]
    }
   ],
   "source": [
    "view1.script(\"draw SYMOP {molecule=2} {molecule=2}\")\n",
    "view1.script('draw POINTGROUP Ci; Label off') \n",
    "view1.script('draw POINTGROUP C3 4')\n",
    "view1.script('draw POINTGROUP Cs 1')\n",
    "view1.script('draw POINTGROUP Cs 2')\n",
    "print(\"The 3 symmetry elements are displayed altogether in previous figure\")"
   ]
  },
  {
   "cell_type": "code",
   "execution_count": 165,
   "id": "0ed4faa1",
   "metadata": {},
   "outputs": [],
   "source": [
    "# Shut down the display\n",
    "view1.close()"
   ]
  },
  {
   "cell_type": "code",
   "execution_count": null,
   "id": "9bc5bdc6",
   "metadata": {},
   "outputs": [],
   "source": []
  }
 ],
 "metadata": {
  "kernelspec": {
   "display_name": "Python 3",
   "language": "python",
   "name": "python3"
  },
  "language_info": {
   "codemirror_mode": {
    "name": "ipython",
    "version": 3
   },
   "file_extension": ".py",
   "mimetype": "text/x-python",
   "name": "python",
   "nbconvert_exporter": "python",
   "pygments_lexer": "ipython3",
   "version": "3.6.8"
  }
 },
 "nbformat": 4,
 "nbformat_minor": 5
}
